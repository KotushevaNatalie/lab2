{
 "cells": [
  {
   "cell_type": "code",
   "execution_count": 7,
   "id": "411a90ba",
   "metadata": {
    "lines_to_next_cell": 1
   },
   "outputs": [],
   "source": [
    "import random\n",
    "import string"
   ]
  },
  {
   "cell_type": "code",
   "execution_count": 8,
   "id": "ee5e1733",
   "metadata": {},
   "outputs": [],
   "source": [
    "def generate_passwords(num_passwords: int, password_length: int, use_digits: bool=True, use_lower: bool=True, use_upper: bool=True, use_special: bool=True, extra_chars: str=\"\") -> list:\n",
    "    \"\"\"\n",
    "    Генерирует список паролей на основе входных параметров.\n",
    "\n",
    "     Аргументы:\n",
    "         num_passwords (int): количество сгенерированных паролей.\n",
    "         password_length (int): длина каждого пароля.\n",
    "         use_digits (bool, необязательный): Использовать ли цифры в пароле. По умолчанию Истина.\n",
    "         use_lower (bool, необязательный): использовать ли строчные буквы в пароле. По умолчанию Истина.\n",
    "         use_upper (bool, необязательный): использовать ли заглавные буквы в пароле. По умолчанию Истина.\n",
    "         use_special (bool, необязательный): использовать ли специальные символы в пароле. По умолчанию Истина.\n",
    "         extra_chars (str, необязательный): любые дополнительные символы для включения в пароль. По умолчанию \"\".\n",
    "\n",
    "     Возвращает:\n",
    "         list: Список сгенерированных паролей.\n",
    "     \"\"\"\n",
    "    \n",
    "\n",
    "    chars = \"\"\n",
    "    if use_digits:\n",
    "        chars += string.digits\n",
    "    if use_lower:\n",
    "        chars += string.ascii_lowercase\n",
    "    if use_upper:\n",
    "        chars += string.ascii_uppercase\n",
    "    if use_special:\n",
    "        chars += string.punctuation\n",
    "    chars += extra_chars\n",
    "\n",
    "\n",
    "    passwords = []\n",
    "    for i in range(num_passwords):\n",
    "        password = \"\".join(random.choice(chars) for _ in range(password_length))\n",
    "        passwords.append(password)\n",
    "\n",
    "    return passwords"
   ]
  },
  {
   "cell_type": "code",
   "execution_count": 9,
   "id": "7c574668",
   "metadata": {},
   "outputs": [
    {
     "name": "stdout",
     "output_type": "stream",
     "text": [
      "['5;9@;>Hv', \"Oo+LY/9'\", '\\\\\"m@8&I}', ';Q]hTYsz', 'xk~S[7d\\\\']\n"
     ]
    }
   ],
   "source": [
    "# Сгенерируйте 5 паролей с настройками по умолчанию\n",
    "passwords = generate_passwords(num_passwords=5, password_length=8)\n",
    "print(passwords)"
   ]
  },
  {
   "cell_type": "code",
   "execution_count": 10,
   "id": "ba123e42",
   "metadata": {},
   "outputs": [
    {
     "name": "stdout",
     "output_type": "stream",
     "text": [
      "['EQb[1h{RdT', 'vS_aK[H4JC', 'F>IC|`HO*c']\n"
     ]
    }
   ],
   "source": [
    "# Сгенерировать 3 пароля со строчными буквами и цифрами\n",
    "passwords = generate_passwords(num_passwords=3, password_length=10, use_lower=True, use_digits=True)\n",
    "print(passwords)"
   ]
  },
  {
   "cell_type": "code",
   "execution_count": 13,
   "id": "ab4d7b65",
   "metadata": {},
   "outputs": [
    {
     "name": "stdout",
     "output_type": "stream",
     "text": [
      "['oxu?{bqqx@mr', '\"`[!igiu><!_']\n"
     ]
    }
   ],
   "source": [
    "# Создать 2 пароля с заглавными буквами, специальными символами и дополнительными символами\n",
    "passwords = generate_passwords(num_passwords=2, password_length=12, use_upper=False, use_special=True, extra_chars=\"+[]\", use_digits=False)\n",
    "print(passwords)"
   ]
  },
  {
   "cell_type": "code",
   "execution_count": 12,
   "id": "0dcf33ef",
   "metadata": {},
   "outputs": [
    {
     "name": "stdout",
     "output_type": "stream",
     "text": [
      "['4e&_ab&o\"1`\"^su}', 'j{,]#>])g:^awirg', '``{p<[@$(n_:v>cc', '5qlb5v9huysl$>u.', '^{v\"%;k@]]_x:?(v']\n"
     ]
    }
   ],
   "source": [
    "# Создать 2 пароля с заглавными буквами, специальными символами и дополнительными символами\n",
    "passwords = generate_passwords(num_passwords=5, password_length=16, use_upper=False, use_special=True, extra_chars=\"@[]\")\n",
    "print(passwords)"
   ]
  }
 ],
 "metadata": {
  "jupytext": {
   "cell_metadata_filter": "-all",
   "main_language": "python",
   "notebook_metadata_filter": "-all"
  },
  "kernelspec": {
   "display_name": "Python 3",
   "language": "python",
   "name": "python3"
  },
  "language_info": {
   "codemirror_mode": {
    "name": "ipython",
    "version": 3
   },
   "file_extension": ".py",
   "mimetype": "text/x-python",
   "name": "python",
   "nbconvert_exporter": "python",
   "pygments_lexer": "ipython3",
   "version": "3.10.10"
  }
 },
 "nbformat": 4,
 "nbformat_minor": 5
}
