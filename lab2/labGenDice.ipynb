{
 "cells": [
  {
   "cell_type": "code",
   "execution_count": 1,
   "id": "98f88c2d",
   "metadata": {
    "lines_to_next_cell": 1
   },
   "outputs": [],
   "source": [
    "from random import randint"
   ]
  },
  {
   "cell_type": "code",
   "execution_count": 2,
   "id": "3e44563a",
   "metadata": {},
   "outputs": [],
   "source": [
    "def roll_dice(num_dice: int, num_sides: int = 6, sides_values: tuple[int] = (1,2,3,4,5,6)) -> tuple[int]:\n",
    "    array = [4, 5, 3 ,2,]\n",
    "    \"\"\"\n",
    "    Бросить N игральных костей с X гранями и вернуть результат в виде кортежа.\n",
    "    \n",
    "    Аргументы:\n",
    "        - num_dice (int): Количество бросков игральных костей.\n",
    "        - num_sides (int, опционально): Количество граней у каждой игральной кости. По умолчанию равно 6.\n",
    "        - sides_values (кортеж из int, опционально): Значения для каждой грани игральной кости. По умолчанию равно (1,2,3,4,5,6).\n",
    "\n",
    "    Возвращает:\n",
    "        - Кортеж целых чисел, представляющих результат каждого броска кости.\n",
    "\n",
    "    \"\"\"\n",
    "    \n",
    "    # Проверка входящих параметров\n",
    "    if num_dice <= 0:\n",
    "        raise ValueError(\"Number of dice must be greater than 0.\")\n",
    "    \n",
    "    if num_sides <= 1:\n",
    "        raise ValueError(\"Number of sides must be greater than 1.\")\n",
    "    \n",
    "    if len(sides_values) != num_sides:\n",
    "        raise ValueError(\"Number of sides does not match the length of sides_values.\")\n",
    "    \n",
    "    # Кидается кубик\n",
    "    result = ()\n",
    "    result = tuple(randint(1, num_sides) for i in range(num_dice))\n",
    "    return result"
   ]
  },
  {
   "cell_type": "code",
   "execution_count": null,
   "id": "3fbf8d85",
   "metadata": {},
   "outputs": [],
   "source": []
  },
  {
   "cell_type": "code",
   "execution_count": 3,
   "id": "bc0db475",
   "metadata": {},
   "outputs": [
    {
     "name": "stdout",
     "output_type": "stream",
     "text": [
      "(1, 6, 6)\n"
     ]
    }
   ],
   "source": [
    "# Бросить 3 шестигранных кубика\n",
    "print(roll_dice(3))"
   ]
  },
  {
   "cell_type": "code",
   "execution_count": 4,
   "id": "7dc9b67a",
   "metadata": {},
   "outputs": [
    {
     "name": "stdout",
     "output_type": "stream",
     "text": [
      "(1, 7, 5, 2)\n"
     ]
    }
   ],
   "source": [
    "# Бросить 4 восьмигранных кубика с произвольными значениями сторон.\n",
    "print(roll_dice(4, 8, (1, 3, 5, 7, 9, 11, 13, 15)))"
   ]
  }
 ],
 "metadata": {
  "jupytext": {
   "cell_metadata_filter": "-all",
   "main_language": "python",
   "notebook_metadata_filter": "-all"
  },
  "kernelspec": {
   "display_name": "Python 3",
   "language": "python",
   "name": "python3"
  },
  "language_info": {
   "codemirror_mode": {
    "name": "ipython",
    "version": 3
   },
   "file_extension": ".py",
   "mimetype": "text/x-python",
   "name": "python",
   "nbconvert_exporter": "python",
   "pygments_lexer": "ipython3",
   "version": "3.10.10"
  }
 },
 "nbformat": 4,
 "nbformat_minor": 5
}
