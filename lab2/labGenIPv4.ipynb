{
 "cells": [
  {
   "cell_type": "code",
   "execution_count": 1,
   "id": "0fa6888a",
   "metadata": {
    "lines_to_next_cell": 1
   },
   "outputs": [],
   "source": [
    "import random"
   ]
  },
  {
   "cell_type": "code",
   "execution_count": 2,
   "id": "e30b7b4c",
   "metadata": {},
   "outputs": [],
   "source": [
    "def GetIPv4(min=(0, 0, 0, 0), max=(255, 255, 255, 255)):\n",
    "    \"\"\"\n",
    "    Генерировать случайный IPv4-адрес в указанном диапазоне.\n",
    "\n",
    "     Аргументы:\n",
    "     - min (tuple[int]): кортеж из четырех целых чисел, определяющий минимальное значение каждого октета. По умолчанию (0, 0, 0, 0).\n",
    "     - max (tuple[int]): кортеж из четырех целых чисел, определяющий максимальное значение каждого октета. По умолчанию (255, 255, 255, 255).\n",
    "\n",
    "     Возвращает:\n",
    "     -str: строка, представляющая сгенерированный IPv4-адрес\n",
    "    \"\"\"\n",
    "    \n",
    "    if len(min) != 4 or len(max) != 4:\n",
    "        raise ValueError(\"min and max must be tuples of four integers\")\n",
    "    for octet in min + max:\n",
    "        if not isinstance(octet, int) or octet < 0 or octet > 255:\n",
    "            raise ValueError(\"min and max must contain integers between 0 and 255\")\n",
    "\n",
    "    ip = [str(random.randint(min[i], max[i])) for i in range(4)]\n",
    "    return \".\".join(ip)"
   ]
  },
  {
   "cell_type": "code",
   "execution_count": 3,
   "id": "48236bdc",
   "metadata": {},
   "outputs": [
    {
     "name": "stdout",
     "output_type": "stream",
     "text": [
      "202.1.163.62\n"
     ]
    }
   ],
   "source": [
    "# Генерация случайного IPv4-адреса\n",
    "print(GetIPv4())  "
   ]
  },
  {
   "cell_type": "code",
   "execution_count": 4,
   "id": "8503734d",
   "metadata": {},
   "outputs": [
    {
     "name": "stdout",
     "output_type": "stream",
     "text": [
      "193.169.0.129\n"
     ]
    }
   ],
   "source": [
    "# Генерировать случайный IPv4-адрес с минимальным значением\n",
    "print(GetIPv4(min=(192, 168, 0, 0)))  "
   ]
  },
  {
   "cell_type": "code",
   "execution_count": 5,
   "id": "8f21739c",
   "metadata": {},
   "outputs": [
    {
     "name": "stdout",
     "output_type": "stream",
     "text": [
      "192.168.156.45\n"
     ]
    }
   ],
   "source": [
    "# Генерация случайного IPv4-адреса в диапазоне\n",
    "print(GetIPv4(min=(192, 168, 0, 0), max=(192, 168, 255, 255)))  "
   ]
  }
 ],
 "metadata": {
  "jupytext": {
   "cell_metadata_filter": "-all",
   "main_language": "python",
   "notebook_metadata_filter": "-all"
  },
  "kernelspec": {
   "display_name": "Python 3",
   "language": "python",
   "name": "python3"
  },
  "language_info": {
   "codemirror_mode": {
    "name": "ipython",
    "version": 3
   },
   "file_extension": ".py",
   "mimetype": "text/x-python",
   "name": "python",
   "nbconvert_exporter": "python",
   "pygments_lexer": "ipython3",
   "version": "3.10.10"
  }
 },
 "nbformat": 4,
 "nbformat_minor": 5
}
